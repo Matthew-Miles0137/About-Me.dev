{
 "cells": [
  {
   "cell_type": "code",
   "execution_count": 2,
   "metadata": {},
   "outputs": [
    {
     "name": "stdout",
     "output_type": "stream",
     "text": [
      "['Username', 'Password', 'First_Name']\n",
      "[['Matthaeus-Invictus', 'invincible', 'Matthew'], ['Miles-Atma', 'selfContainedSoul', 'Miles']]\n"
     ]
    }
   ],
   "source": [
    "#working with comma separated value (csv) files in python\n",
    "# Reference: https://github.com/harika-bonthu/Python-CSV/blob/main/CSV.ipynb\n",
    "import csv\n",
    "\n",
    "#writing to/creating a csv file\n",
    "header = ['Username', 'Password', 'First Name']\n",
    "data = [['Matthaeus-Invictus', 'invincible', 'Matthew'], \n",
    "['Miles-Atma', 'selfContainedSoul', 'Miles']]\n",
    "# give the file a name\n",
    "filename = '../data/accounts.csv'\n",
    "with open(filename, 'w', newline=\"\") as file:\n",
    "    csvwriter = csv.writer(file) # create a csvwriter object\n",
    "    csvwriter.writerow(header) #write the header\n",
    "    csvwriter.writerows(data) # write the rest of the data\n",
    "\n",
    "\n",
    "# reading from a csv file\n",
    "import csv\n",
    "# input the name of the file to open and assign it to a variable\n",
    "file = open(\"../data/accounts.csv\")\n",
    "# input the file variable to the csv.reader\n",
    "csvreader = csv.reader(file)\n",
    "# give the first row the variable name header and print its contents; next will print the first row by default.\n",
    "header = next(csvreader)\n",
    "print(header)\n",
    "# build the list with documents/rows of data using a for loop\n",
    "rows = []\n",
    "for row in csvreader:\n",
    "    rows.append(row)\n",
    "print(rows)\n",
    "file.close()\n",
    "\n",
    "\n"
   ]
  }
 ],
 "metadata": {
  "kernelspec": {
   "display_name": "Python 3.10.8 64-bit",
   "language": "python",
   "name": "python3"
  },
  "language_info": {
   "codemirror_mode": {
    "name": "ipython",
    "version": 3
   },
   "file_extension": ".py",
   "mimetype": "text/x-python",
   "name": "python",
   "nbconvert_exporter": "python",
   "pygments_lexer": "ipython3",
   "version": "3.10.8"
  },
  "orig_nbformat": 4,
  "vscode": {
   "interpreter": {
    "hash": "369f2c481f4da34e4445cda3fffd2e751bd1c4d706f27375911949ba6bb62e1c"
   }
  }
 },
 "nbformat": 4,
 "nbformat_minor": 2
}
